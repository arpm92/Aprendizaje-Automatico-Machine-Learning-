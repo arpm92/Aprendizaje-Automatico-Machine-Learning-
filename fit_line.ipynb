{
  "nbformat": 4,
  "nbformat_minor": 0,
  "metadata": {
    "colab": {
      "name": "fit_line.ipynb",
      "provenance": [],
      "collapsed_sections": [],
      "authorship_tag": "ABX9TyMkpJf0T3dh6tBFQYDlCkcn",
      "include_colab_link": true
    },
    "kernelspec": {
      "name": "python3",
      "display_name": "Python 3"
    }
  },
  "cells": [
    {
      "cell_type": "markdown",
      "metadata": {
        "id": "view-in-github",
        "colab_type": "text"
      },
      "source": [
        "<a href=\"https://colab.research.google.com/github/mario-i-caicedo-ai/Aprendizaje-Automatico-Machine-Learning-/blob/main/fit_line.ipynb\" target=\"_parent\"><img src=\"https://colab.research.google.com/assets/colab-badge.svg\" alt=\"Open In Colab\"/></a>"
      ]
    },
    {
      "cell_type": "markdown",
      "metadata": {
        "id": "q1X5i8PrQa-I"
      },
      "source": [
        "<h1><b><center>Introducción al Aprendizaje Automático</center></b></h1>\n",
        "<h1><b><center>Primer Ejemplo</center></b></h1>\n",
        "\n",
        "\n",
        "<h2><center>Mario I. Caicedo</center></h2>\n"
      ]
    },
    {
      "cell_type": "markdown",
      "metadata": {
        "id": "vh7VnwVvVr7k"
      },
      "source": [
        "### **Regresión Lineal** ó **Ajuste de una recta**\n",
        "\n",
        "El problema de regresión lineal, probablemente el problema más sencillo de **aprendizaje supervisado** consiste en encontrar los parámetros (pendiente e intercepto de una recta) que permitan hacer la mejor predicción (extrapolación) posible a datos que provengan de dos atributos que se visualizan alineados en un gráfico cruzado.  \n",
        "\n",
        "Este es un problema totalmente resuelto en estadística clásica, lo que de ninura manera disminuye el interés que pueda despertar y es por ello que este cuaderno describe su solución de manera exhaustiva. "
      ]
    },
    {
      "cell_type": "markdown",
      "metadata": {
        "id": "3ZdsB_BIylPP"
      },
      "source": [
        "### **Bibliotecas**"
      ]
    },
    {
      "cell_type": "code",
      "metadata": {
        "id": "DIlCNHcLlUpK"
      },
      "source": [
        "import numpy as np\n",
        "import scipy \n",
        "import pandas as pd\n",
        "\n",
        "from scipy import stats\n",
        "from scipy import linalg\n",
        "\n",
        "import sklearn\n",
        "\n",
        "from sklearn.linear_model import LinearRegression\n",
        "\n",
        "from sklearn import datasets, linear_model\n",
        "from sklearn.metrics import mean_squared_error, r2_score\n",
        "\n",
        "\n",
        "import matplotlib as plt\n",
        "import matplotlib.pyplot as plt"
      ],
      "execution_count": 1,
      "outputs": []
    },
    {
      "cell_type": "markdown",
      "metadata": {
        "id": "2jYBi_YZ1xRT"
      },
      "source": [
        "# **Introducción**"
      ]
    },
    {
      "cell_type": "markdown",
      "metadata": {
        "id": "Uu9TS9vhNK8b"
      },
      "source": [
        "* En la notación estándar de *problemas inversos*, se tienen $N$ **mediciones (datos)** $d^{(i)}$, dependientes de un conjunto de variables $f^{i}$ y parámetros $m$ y $n$ en la forma,\n",
        "\n",
        "$$\\boxed{d^{(i)}=m\\,f^{(i)}+n+\\varepsilon^{(i)}\\,,\\qquad\\,i=1,2,...,N}$$\n",
        "\n",
        "* Los valores $\\varepsilon^{(i)}$ son las incertdumbres en las mediciones de tiempo y posición\n",
        "\n",
        "* En la notación estándar de estadística y ML (ver Andrew Ng) \n",
        "\n",
        "$$\\boxed{y^{(i)}=h_{\\Theta}(x^{(i)})=\\theta_0+\\theta_1\\,f^{(i)}+\\varepsilon^{(i)}}$$\n",
        "donde $h_\\Theta$ es la *hipótesis*\n",
        "\n",
        "* Las relaciones entre las mediciones y los parámetros se pueden reescribir en la forma\n",
        "\n",
        "$$\\boxed{\\mathbf{d}=\\mathbf{Fm}}$$\n",
        "\n",
        "$$\\boxed{y^{(i)}=h_\\Theta(x^{(i)})}$$\n",
        "\n",
        "$$\\boxed{\\mathbf{y}=\\mathbf{F\\Theta}}$$\n",
        "\n",
        "* Donde $\\mathbf{d}$ es el vector de los datos (de $N$ entradas), $\\mathbf{F}$ una matriz $N\\times{}2$ y\n",
        "\n",
        "$$\\Theta=\\mathbf{m}=\\begin{pmatrix}n\\\\m\\end{pmatrix}=\\begin{pmatrix}\\theta_0\\\\\\theta_1\\end{pmatrix}$$\n",
        "\n",
        "* **El problema de ajuste (ó *aprendizaje*) consiste en encontrar el vector de parámetros $\\Theta$**\n",
        "\n",
        "* Una vez que se alcanza el aprendizaje, se pueden usar los parámetros y la hipótesis para llevar a cabo predecciones (extrapolaciones)  \n",
        "\n",
        "* Para resolver el problema se introduce un problema de minimización.\n",
        "\n",
        "* La función de costo (error cuadrático medio) es:\n",
        "\n",
        "$$J(\\mathbf{m})=(\\mathbf{d}-\\mathbf{Fm})^T(\\mathbf{d}-\\mathbf{Fm})$$\n",
        "\n",
        "* La solución al problema de aprendizaje se reduce a  minimizar la función de costo con respecto a lo parámetos.\n",
        "\n",
        "* Se puede encontrar una solución directa buscando los puntos críticos de $J$, esto es, resolviendo\n",
        "\n",
        "$$\\nabla_{\\mathbf{m}}J=0\\,,$$\n",
        "que resulta en\n",
        "$$\\boxed{\\mathbf{m}=(\\mathbf{F}^T\\mathbf{F})^{-1}\\,\\mathbf{F}^TX}$$\n",
        "\n",
        "* Esta solución explítica requiere el cálculo de la inversa de la matriz $\\mathbf{F}^T\\mathbf{F}$ que en este caso es un problema casi trivial, pero que en el caso de un modelo lineal con $p$ parámetros puede complicarse por un conjunto de problemas bien conocidos en la subdisciplina del álgebra lineal numérica como por ejemplo\n",
        "    * Largos tiempos de cálculo para problemas muy grandes y\n",
        "    * Mal condicionamiento de la matriz $\\mathbf{F}^T\\mathbf{F}$\n",
        "\n",
        "* El problema de aprendizaje también puede resolverse minimizando la función de costo a través de la técnica de **Descenso por Gradiente**.\n"
      ]
    },
    {
      "cell_type": "markdown",
      "metadata": {
        "id": "nq92qMTW1XY_"
      },
      "source": [
        "# En este cuaderno resolveremos el problema de aprendizaje con un conjunto único de **datos sintéticos**."
      ]
    },
    {
      "cell_type": "markdown",
      "metadata": {
        "id": "kxqZZqFI192l"
      },
      "source": [
        "* Los datos sintéticos corresponden a un movimiento de velocidad constante\n",
        "* $x(t)=v_0\\,t+x_0$"
      ]
    },
    {
      "cell_type": "markdown",
      "metadata": {
        "id": "GPxQoa5ExOjZ"
      },
      "source": [
        "# Creando los datos sintéticos"
      ]
    },
    {
      "cell_type": "markdown",
      "metadata": {
        "id": "391Mr3YUw-YN"
      },
      "source": [
        "### La función hipotesis calcula los valores de x(t) a partir de una lista de tiempos generada con linspace."
      ]
    },
    {
      "cell_type": "code",
      "metadata": {
        "id": "egFOOWUptxnK"
      },
      "source": [
        "def hipotesis(t,Theta,porcentaje_ruido):\n",
        "  np.random.seed(42)\n",
        "  factor=porcentaje_ruido/100\n",
        "  noise=factor*np.random.normal(size=21)\n",
        "  h=Theta[0]+Theta[1]*t+noise\n",
        "  return(h)"
      ],
      "execution_count": 2,
      "outputs": []
    },
    {
      "cell_type": "markdown",
      "metadata": {
        "id": "JHfMfIK75Ood"
      },
      "source": [
        "### Creando y visualizando los datos sintéticos"
      ]
    },
    {
      "cell_type": "code",
      "metadata": {
        "id": "_XZd5mvGwUOQ"
      },
      "source": [
        "t=np.linspace(0,10,21)\n",
        "v0=0.5\n",
        "x0=1.\n",
        "\n",
        "Theta=np.zeros(2)\n",
        "Theta[0]=x0\n",
        "Theta[1]=v0\n",
        "\n",
        "porcentaje_ruido=10.\n",
        "\n",
        "x=hipotesis(t,Theta,porcentaje_ruido)"
      ],
      "execution_count": 3,
      "outputs": []
    },
    {
      "cell_type": "code",
      "metadata": {
        "colab": {
          "base_uri": "https://localhost:8080/",
          "height": 295
        },
        "id": "ZdLPJ7fkc539",
        "outputId": "e7d32af3-fdd2-442d-91b8-1850fe1bf356"
      },
      "source": [
        "fig, dx = plt.subplots()\n",
        "dx.scatter(t, x, edgecolors=(0, 0, 0))\n",
        "\n",
        "plt.title('Datos Sintéticos')\n",
        "dx.set_xlabel('tiempo (s)')\n",
        "dx.set_ylabel('Posición (m)')\n",
        "plt.show()"
      ],
      "execution_count": 4,
      "outputs": [
        {
          "output_type": "display_data",
          "data": {
            "image/png": "[encoded data removed]",
            "text/plain": [
              "<Figure size 432x288 with 1 Axes>"
            ]
          },
          "metadata": {
            "tags": [],
            "needs_background": "light"
          }
        }
      ]
    },
    {
      "cell_type": "markdown",
      "metadata": {
        "id": "5kKbQZlchCJk"
      },
      "source": [
        "# **Parte I**\n",
        "\n",
        "### Soluciones sin recurrir a bibliotecas"
      ]
    },
    {
      "cell_type": "markdown",
      "metadata": {
        "id": "P1ML7Pz5Xn21"
      },
      "source": [
        "# Primer ajuste\n",
        "\n",
        "## Solución analítica\n",
        "\n",
        "* Recordar que $\\mathbf{F}$ es la matriz de tiempos\n"
      ]
    },
    {
      "cell_type": "markdown",
      "metadata": {
        "id": "BqEoay-AbFoo"
      },
      "source": [
        "### Construcción y Transposición de\n",
        "\n",
        "$$\\mathbf{F}=\\begin{pmatrix}1&t^{(1)}\\\\\n",
        "1&t^{(2)}\\\\\\vdots&\\vdots\\\\1&t^{(N)}\\end{pmatrix}$$\n",
        "\n",
        "### Cálculo de $$\\mathbf{F}^T\\mathbf{F}$$\n",
        " \n",
        "\n"
      ]
    },
    {
      "cell_type": "code",
      "metadata": {
        "id": "cdjY62j7EQx2"
      },
      "source": [
        "F=np.zeros((21,2))\n",
        "\n",
        "for p in range(0,21):\n",
        "  F[p,0]=1.\n",
        "  F[p,1]=t[p]\n",
        "\n",
        "FT=F.T # Transposición de M\n",
        "FTF= FT.dot(F)"
      ],
      "execution_count": 5,
      "outputs": []
    },
    {
      "cell_type": "markdown",
      "metadata": {
        "id": "qoeISbIsbAlm"
      },
      "source": [
        "### Solución (aprendizaje) analítica/directa\n",
        "\n",
        "$$\\boxed{\\boldsymbol{\\Theta}=(\\mathbf{F}^T\\mathbf{F})^{-1}\\,\\mathbf{F}^TX}$$"
      ]
    },
    {
      "cell_type": "markdown",
      "metadata": {
        "id": "qHjMrrdD7aWM"
      },
      "source": [
        "* En este caso $\\mathbf{F}$ es una matriz $2\\times{}2$ simétrica y el cálculo de su inversa es elemental,\n",
        "$$\n",
        "\\begin{pmatrix}\n",
        "a&b\\\\\n",
        "b&d\n",
        "\\end{pmatrix}^{-1}=\\frac{1}{\\Delta}\\begin{pmatrix}\n",
        "d&-b\\\\\n",
        "-b&a\n",
        "\\end{pmatrix}\\,,\n",
        "$$\n",
        "donde $\\Delta$ el determinante tiene valor\n",
        "$$\n",
        "\\Delta=ad-b^2$$"
      ]
    },
    {
      "cell_type": "code",
      "metadata": {
        "id": "2MpR-W2a8et-"
      },
      "source": [
        "# Calculando la inversa de F^TF\n",
        "\n",
        "FTF_inv=np.empty_like(FTF)\n",
        "\n",
        "FTF_inv[0,0]=FTF[1,1]\n",
        "FTF_inv[0,1]=-FTF[0,1]\n",
        "FTF_inv[1,0]=-FTF[1,0]\n",
        "FTF_inv[1,1]=FTF[0,0]\n",
        "DELTA=FTF_inv[0,0]*FTF_inv[1,1]-FTF_inv[0,1]*FTF_inv[1,0]\n",
        "DELTA=1./DELTA\n",
        "FTF_inv=DELTA*FTF_inv\n"
      ],
      "execution_count": 6,
      "outputs": []
    },
    {
      "cell_type": "markdown",
      "metadata": {
        "id": "HEpSQn3z8tcH"
      },
      "source": [
        "* El sistema a resolver es:\n",
        "$$\n",
        "\\mathbf{F}^T\\mathbf{F}=\\mathbf{F}^T\\mathbf{X}\n",
        "$$"
      ]
    },
    {
      "cell_type": "code",
      "metadata": {
        "id": "wsw-Z-3Zbppn"
      },
      "source": [
        "G=FT.dot(x) # Lado derecho del sistema\n",
        "\n",
        "model_hand=FTF_inv.dot(G) # Solución \n",
        "\n",
        "# Solución uando linalg\n",
        "# Linalg usa técnicas avanzadas de álgebra lineal numeŕica\n",
        "# para resolver el sistema de ecuaciones, su uso es totalmente innecesario \n",
        "# en este caso pero se incluye para propóistos pedagógicos.\n",
        "\n",
        "model=linalg.inv(FTF).dot(G)"
      ],
      "execution_count": 7,
      "outputs": []
    },
    {
      "cell_type": "code",
      "metadata": {
        "colab": {
          "base_uri": "https://localhost:8080/"
        },
        "id": "_SSagEGWb80t",
        "outputId": "527b94c7-e8dd-4708-bb5b-11c64d4c43e7"
      },
      "source": [
        "print('Pendiente del Modelo Sintético:',Theta[1],'\\n')\n",
        "\n",
        "print('Intercepto del Modelo Sintético:',Theta[0],'\\n')### Salida\n",
        "\n",
        "print('Aprendizaje por via de la Solución Analítica\\n')\n",
        "\n",
        "print('Pendiente:',model_hand[1],'\\n')\n",
        "\n",
        "print('Intercepto:',model_hand[0],'\\n')\n",
        "\n",
        "print('Aprendizaje por via de la Solución Analítica usando linalg\\n')\n",
        "\n",
        "print('Pendiente:',model[1],'\\n')\n",
        "\n",
        "print('Intercepto:',model[0])"
      ],
      "execution_count": 24,
      "outputs": [
        {
          "output_type": "stream",
          "text": [
            "Pendiente del Modelo Sintético: 0.5 \n",
            "\n",
            "Intercepto del Modelo Sintético: 1.0 \n",
            "\n",
            "Aprendizaje por via de la Solución Analítica\n",
            "\n",
            "Pendiente: 0.4870542622470567 \n",
            "\n",
            "Intercepto: 1.0553938199079762 \n",
            "\n",
            "Aprendizaje por via de la Solución Analítica usando linalg\n",
            "\n",
            "Pendiente: 0.48705426224705717 \n",
            "\n",
            "Intercepto: 1.055393819907976\n"
          ],
          "name": "stdout"
        }
      ]
    },
    {
      "cell_type": "markdown",
      "metadata": {
        "id": "V39IaSkl9op_"
      },
      "source": [
        "# Segundo Ajuste \n",
        "\n",
        "## Aprendizaje por método de gradiente"
      ]
    },
    {
      "cell_type": "markdown",
      "metadata": {
        "id": "XzvDiatQmq0m"
      },
      "source": [
        "* Comenzamos por recordar y calcular la función de costo (será necesaria en el criterio de parada del algoritmo)\n",
        "\n",
        "$$J(\\boldsymbol{\\Theta})=(\\mathbf{d}-\\mathbf{F}\\boldsymbol{\\Theta})^T(\\mathbf{d}-\\mathbf{Fm})$$"
      ]
    },
    {
      "cell_type": "code",
      "metadata": {
        "id": "bPtfTg2rpiKd"
      },
      "source": [
        "def Cost(d,t,Theta,porcentaje_ruido):\n",
        "  N=2.*float(len(t))\n",
        "  s=d-hipotesis(t,Theta,porcentaje_ruido)\n",
        "  c=s.dot(s.T)/N\n",
        "  return(c)"
      ],
      "execution_count": 9,
      "outputs": []
    },
    {
      "cell_type": "markdown",
      "metadata": {
        "id": "C_GsQHVDrfy7"
      },
      "source": [
        "* El gradiente de $J$ se calcula de inmediato \n",
        "\n",
        "$$\\nabla_{\\boldsymbol{\\Theta}^T}J(\\boldsymbol{\\Theta})=-\\mathbf{F}^T(\\mathbf{d}-\\mathbf{F}\\boldsymbol{\\Theta})$$"
      ]
    },
    {
      "cell_type": "code",
      "metadata": {
        "id": "emE0dcMgWDXk"
      },
      "source": [
        "def grad(d,F,Theta):\n",
        "  M=F.T\n",
        "  s=d-F.dot(Theta)\n",
        "  gr=-M.dot(s)/float(len(d))\n",
        "  return(gr)"
      ],
      "execution_count": 10,
      "outputs": []
    },
    {
      "cell_type": "markdown",
      "metadata": {
        "id": "EeoBY6DcfwLn"
      },
      "source": [
        "### Función para el **Algoritmo de Descenso por Gradiente**\n",
        "\n",
        "* El algoritmo comienza dando una semilla (valor inicial) $\\boldsymbol{\\Theta}^{(0)}$\n",
        "\n",
        "* A partir de la semilla se itera (el superíndice k indica la iteración) para conseguir nuevos valores de los parámetros\n",
        "\n",
        "$$\\boldsymbol{\\Theta}^{(k+1)}=\\boldsymbol{\\Theta}^{(k)}-\\mu\\nabla_{\\boldsymbol{\\Theta}^T}J(\\boldsymbol{\\Theta}^{(k)})$$\n",
        "\n",
        "* La iteración se detiende con algún criterio.\n",
        "* El criterio que estamos usando es la estabilización de la función de costo."
      ]
    },
    {
      "cell_type": "code",
      "metadata": {
        "id": "SivIVoSnv8bf"
      },
      "source": [
        "def descenso(x,F,theta_ini,tasa_de_aprendizaje,criterio): # Tasa de aprendizaje, valor recomendado 0.05\n",
        "  theta=theta_ini\n",
        "  while criterio > 1./10000.:\n",
        "  #or s in range(0,100):\n",
        "      J1=Cost(x,t,theta,0.)\n",
        "      Gradiente=grad(x,F,theta)\n",
        "      ntheta=theta-tasa_de_aprendizaje*Gradiente\n",
        "      theta=ntheta\n",
        "      J2=Cost(x,t,theta,0.)\n",
        "      criterio=np.abs(J1-J2)\n",
        "  return(theta)"
      ],
      "execution_count": 11,
      "outputs": []
    },
    {
      "cell_type": "markdown",
      "metadata": {
        "id": "-opaZedYgwum"
      },
      "source": [
        "* Aplicación del algoritmo al aprendizaje con los datos sintéticos"
      ]
    },
    {
      "cell_type": "code",
      "metadata": {
        "id": "rWCLWkIuM-hL"
      },
      "source": [
        "Theta_ini=np.zeros(2)\n",
        "Theta_ini[0]=0.\n",
        "Theta_ini[1]=0.\n",
        "\n",
        "tasa_de_aprendizaje=0.05\n",
        "criterio=1./1000.\n",
        "\n",
        "solucion=descenso(x,F,Theta_ini,tasa_de_aprendizaje,criterio)"
      ],
      "execution_count": 12,
      "outputs": []
    },
    {
      "cell_type": "code",
      "metadata": {
        "colab": {
          "base_uri": "https://localhost:8080/"
        },
        "id": "4mTpXOUwCK7i",
        "outputId": "2c4798c4-57fd-495c-803b-a18406d01b6e"
      },
      "source": [
        "print('Pendiente e Intercepto de los datos sintéticos:',Theta[1],Theta[0],'\\n')\n",
        "\n",
        "e1=Theta[1]-solucion[1]\n",
        "e2=Theta[0]-solucion[0]\n",
        "\n",
        "print('Pendiente:',solucion[1],'. Error',e1,'\\n')\n",
        "print('Intercepto:',solucion[0],'. Error',e2,'\\n')"
      ],
      "execution_count": 13,
      "outputs": [
        {
          "output_type": "stream",
          "text": [
            "Pendiente e Intercepto de los datos sintéticos: 0.5 1.0 \n",
            "\n",
            "Pendiente: 0.511526745060409 . Error -0.01152674506040896 \n",
            "\n",
            "Intercepto: 0.8894506034818085 . Error 0.11054939651819151 \n",
            "\n"
          ],
          "name": "stdout"
        }
      ]
    },
    {
      "cell_type": "markdown",
      "metadata": {
        "id": "jAIIxESgcBNv"
      },
      "source": [
        "___________________________________________________________\n"
      ]
    },
    {
      "cell_type": "markdown",
      "metadata": {
        "id": "Q0hejFuOoayd"
      },
      "source": [
        "# **Parte II**\n",
        "\n",
        "### Uso de Bibliotecas"
      ]
    },
    {
      "cell_type": "markdown",
      "metadata": {
        "id": "Ik3Ae87CX1H3"
      },
      "source": [
        "# Tercer Ajuste\n",
        "\n",
        "* Solución analítica\n",
        "\n",
        "* Uso de la función *linregress*, de stats de scipy."
      ]
    },
    {
      "cell_type": "code",
      "metadata": {
        "colab": {
          "base_uri": "https://localhost:8080/",
          "height": 397
        },
        "id": "DCxCqgzKWkFq",
        "outputId": "494a5807-ad20-475f-f578-267df473407a"
      },
      "source": [
        "pos = stats.linregress(t,x)\n",
        "\n",
        "t_min=t[0]\n",
        "t_max=t[len(t)-1]\n",
        "\n",
        "\n",
        "print(f\"Pendiente: {pos.slope:.6f}\",'\\n')\n",
        "\n",
        "print(f\"Intercepto: {pos.intercept:.6f}\",'\\n')\n",
        "\n",
        "print(f\"R^2: {pos.rvalue**2:.6f},\\n\")\n",
        "\n",
        "\n",
        "fig, ax = plt.subplots()\n",
        "ax.scatter(t, x, edgecolors=(0, 0, 1))\n",
        "ax.plot([0.,10.], [v0*t_min+x0,v0*t_max+x0], 'k--', lw=4)\n",
        "plt.title('Ajuste con linregress')\n",
        "ax.set_xlabel('tiempo (s)')\n",
        "ax.set_ylabel('Posición (m)')\n",
        "plt.show()"
      ],
      "execution_count": 14,
      "outputs": [
        {
          "output_type": "stream",
          "text": [
            "Pendiente: 0.487054 \n",
            "\n",
            "Intercepto: 1.055394 \n",
            "\n",
            "R^2: 0.996326,\n",
            "\n"
          ],
          "name": "stdout"
        },
        {
          "output_type": "display_data",
          "data": {
            "image/png": "[encoded data removed]",
            "text/plain": [
              "<Figure size 432x288 with 1 Axes>"
            ]
          },
          "metadata": {
            "tags": [],
            "needs_background": "light"
          }
        }
      ]
    },
    {
      "cell_type": "markdown",
      "metadata": {
        "id": "OBwOoVMDcKj7"
      },
      "source": [
        "___________________________________________________________"
      ]
    },
    {
      "cell_type": "markdown",
      "metadata": {
        "id": "shVFHdxVaddL"
      },
      "source": [
        "# Cuarto Ajuste\n",
        "\n",
        "* Biblioteca de ML *sklearn*\n",
        "* sklearntiene dos funcionalidades para llevar a cabo el ajuste.\n",
        "* Ambas funcionalidades requieren un reordenamiento de los datos"
      ]
    },
    {
      "cell_type": "markdown",
      "metadata": {
        "id": "O74u3NSD3T_z"
      },
      "source": [
        "* Reordenamiento"
      ]
    },
    {
      "cell_type": "code",
      "metadata": {
        "id": "KVQU1cG83ebw"
      },
      "source": [
        "tr=t.reshape(-1,1)\n",
        "xr=x.reshape(-1,1)"
      ],
      "execution_count": 15,
      "outputs": []
    },
    {
      "cell_type": "markdown",
      "metadata": {
        "id": "cD-BLiIE9gOK"
      },
      "source": [
        "### Primer enfoque"
      ]
    },
    {
      "cell_type": "code",
      "metadata": {
        "colab": {
          "base_uri": "https://localhost:8080/"
        },
        "id": "x6qu-Wd_84B_",
        "outputId": "c8dbe9dc-301a-4661-ec1c-690c4d4498e5"
      },
      "source": [
        "reg_1 = LinearRegression().fit(tr,xr)\n",
        "\n",
        "print('Pendiente',reg_1.coef_,'\\n')\n",
        "\n",
        "print('Intercepto',reg_1.intercept_,'\\n')\n",
        "\n",
        "print('R^2',reg_1.score(tr,xr))"
      ],
      "execution_count": 16,
      "outputs": [
        {
          "output_type": "stream",
          "text": [
            "Pendiente [[0.48705426]] \n",
            "\n",
            "Intercepto [1.05539382] \n",
            "\n",
            "R^2 0.9963264302728575\n"
          ],
          "name": "stdout"
        }
      ]
    },
    {
      "cell_type": "code",
      "metadata": {
        "colab": {
          "base_uri": "https://localhost:8080/",
          "height": 295
        },
        "id": "YRPfws0RCprz",
        "outputId": "f424deb4-b268-470e-a48e-09273a123d6c"
      },
      "source": [
        "fig, bx = plt.subplots()\n",
        "bx.scatter(tr, xr, edgecolors=(0, 0, 0))\n",
        "bx.plot([0.,10.], [v0*t_min+x0,v0*t_max+x0], 'k--', lw=4)\n",
        "plt.title('Primer Ajuste con sklearn')\n",
        "bx.set_xlabel('tiempo (s)')\n",
        "bx.set_ylabel('Posición (m)')\n",
        "plt.show()"
      ],
      "execution_count": 17,
      "outputs": [
        {
          "output_type": "display_data",
          "data": {
            "image/png": "[encoded data removed]",
            "text/plain": [
              "<Figure size 432x288 with 1 Axes>"
            ]
          },
          "metadata": {
            "tags": [],
            "needs_background": "light"
          }
        }
      ]
    },
    {
      "cell_type": "markdown",
      "metadata": {
        "id": "_b2aH4bWA7pD"
      },
      "source": [
        "* Predicciones (extrapolaciones)"
      ]
    },
    {
      "cell_type": "code",
      "metadata": {
        "colab": {
          "base_uri": "https://localhost:8080/"
        },
        "id": "E7AQHIAhA_Gn",
        "outputId": "56955dcb-377a-4c1e-d7d8-67dc1c254d81"
      },
      "source": [
        "t_new=np.array([0.0,0.5,1.0])\n",
        "t_new=t_new.reshape(-1,1)\n",
        "extrapolacion=reg_1.predict(t_new)\n",
        "print(extrapolacion)"
      ],
      "execution_count": 18,
      "outputs": [
        {
          "output_type": "stream",
          "text": [
            "[[1.05539382]\n",
            " [1.29892095]\n",
            " [1.54244808]]\n"
          ],
          "name": "stdout"
        }
      ]
    },
    {
      "cell_type": "markdown",
      "metadata": {
        "id": "eRHUIEQQ9kJ8"
      },
      "source": [
        "### Segundo enfoque (ML)"
      ]
    },
    {
      "cell_type": "markdown",
      "metadata": {
        "id": "rw0Mj35U3jvC"
      },
      "source": [
        "* Definición de los conjuntos de entrenamiento y prueba"
      ]
    },
    {
      "cell_type": "markdown",
      "metadata": {
        "id": "JJbRzXof9pSS"
      },
      "source": [
        ""
      ]
    },
    {
      "cell_type": "code",
      "metadata": {
        "id": "cZuDzPHa3pGl"
      },
      "source": [
        "t_train=tr[:-10] # esto toma los primeros 11 elementos de t\n",
        "t_test = tr[-10:] # esto toma el resto de la lista\n",
        "\n",
        "x_train=xr[:-10]\n",
        "x_test=xr[-10:]\n"
      ],
      "execution_count": 19,
      "outputs": []
    },
    {
      "cell_type": "markdown",
      "metadata": {
        "id": "fOO-3w1m3xze"
      },
      "source": [
        "* Modelo"
      ]
    },
    {
      "cell_type": "code",
      "metadata": {
        "id": "lwtrQNUC7a5G"
      },
      "source": [
        "regr = linear_model.LinearRegression()\n",
        "\n",
        "# Entrenamiento\n",
        "\n",
        "regr.fit(t_train,x_train)\n",
        "\n",
        "# Predicciones\n",
        "\n",
        "x_predict = regr.predict(t_test)\n"
      ],
      "execution_count": 20,
      "outputs": []
    },
    {
      "cell_type": "markdown",
      "metadata": {
        "id": "Q-R6A8Pc4PIz"
      },
      "source": [
        "* Salida"
      ]
    },
    {
      "cell_type": "code",
      "metadata": {
        "colab": {
          "base_uri": "https://localhost:8080/"
        },
        "id": "2vjPtqE54UI4",
        "outputId": "aeb08d84-3c3d-4542-a95f-9adda128fad1"
      },
      "source": [
        "print('Pendiente: \\n', regr.coef_,'\\n')\n",
        "\n",
        "print('Intercepto: \\n', regr.intercept_,'\\n')\n",
        "\n",
        "print('Error (incertidumbre) cuadrática media: %.2f'\n",
        "      % mean_squared_error(x_test, x_predict),'\\n')\n",
        "\n",
        "# The coefficient of determination: 1 is perfect prediction\n",
        "print('Coeficiente de determinación: %.2f'\n",
        "      % r2_score(x_test, x_predict))"
      ],
      "execution_count": 21,
      "outputs": [
        {
          "output_type": "stream",
          "text": [
            "Pendiente: \n",
            " [[0.49067877]] \n",
            "\n",
            "Intercepto: \n",
            " [1.05982301] \n",
            "\n",
            "Mean squared error: 0.01 \n",
            "\n",
            "Coefficient of determination: 0.98\n"
          ],
          "name": "stdout"
        }
      ]
    },
    {
      "cell_type": "markdown",
      "metadata": {
        "id": "y0QyRMnaCTcS"
      },
      "source": [
        "__________________________________________________________________"
      ]
    },
    {
      "cell_type": "markdown",
      "metadata": {
        "id": "8UkFVYB7Sq12"
      },
      "source": [
        "## Notación explícita para el problema de ajuste lineal.\n",
        "\n",
        "$$\\begin{pmatrix}x^{(1)}\\\\x^{(2)}\\\\x^{(3)}\\\\\\vdots\\\\x^{(N)}\\end{pmatrix}=\\begin{pmatrix}1&t^{(1)}\\\\\n",
        "1&t^{(2)}\\\\\\vdots&\\vdots\\\\1&t^{(N)}\\end{pmatrix}\\begin{pmatrix}x_0\\\\v_0\\end{pmatrix}$$\n",
        "\n",
        "$$X=\\begin{pmatrix}x^{(1)}\\\\x^{(2)}\\\\x^{(3)}\\\\\\vdots\\\\x^{(N)}\\end{pmatrix}\\,,\\qquad{}F=\\begin{pmatrix}1&t^{(1)}\\\\\n",
        "1&t^{(2)}\\\\1&t^{(3)}\\\\\\vdots&\\vdots\\\\1&t^{(N)}\\end{pmatrix}$$\n",
        "\n",
        "$$F^TF=\\begin{pmatrix}1&1&1\\dots&1\\\\t^{(1)}&t^{(2)}&t^{(3)}\\dots&t^{(N)}\\end{pmatrix}\\begin{pmatrix}1&t^{(1)}\\\\\n",
        "1&t^{(2)}\\\\1&t^{(3)}\\\\\\vdots&\\vdots\\\\1&t^{(N)}\\end{pmatrix}=\\begin{pmatrix}N&\\sum{}t^{(i)}\\\\\\sum{}t^{(i)}&\\sum(t^{(i)})^2\\end{pmatrix}$$\n",
        "\n",
        "$$F^TX=\\begin{pmatrix}1&1&1\\dots&1\\\\t^{(1)}&t^{(2)}&t^{(3)}\\dots&t^{(N)}\\end{pmatrix}\\begin{pmatrix}x^{(1)}\\\\x^{(2)}\\\\x^{(3)}\\\\\\vdots\\\\x^{(N)}\\end{pmatrix}=\\begin{pmatrix}\\sum{}x^{(i)}\\\\\\sum{}t^{(i)}x^{(i)}\\end{pmatrix}$$\n",
        "\n",
        "* Parámetros a calcular\n",
        "\n",
        "$$\\Theta=\\begin{pmatrix}x_0\\\\v_0\\end{pmatrix}=\\begin{pmatrix}\\theta_0\\\\\\theta_1\\end{pmatrix}$$\n",
        "\n",
        "* Solución\n",
        "\n",
        "$$\\boxed{\\Theta=(F^TF)^{-1}\\,M^TX}$$\n"
      ]
    },
    {
      "cell_type": "markdown",
      "metadata": {
        "id": "0AyWKZ3KWiim"
      },
      "source": [
        " * Ejemplos (A FUTURO)\n",
        "\n",
        " https://www.scribbr.com/statistics/simple-linear-regression/\n",
        "\n",
        "\n",
        " https://towardsdatascience.com/linear-regression-with-example-8daf6205bd49"
      ]
    }
  ]
}